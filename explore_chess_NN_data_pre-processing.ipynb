{
 "cells": [
  {
   "cell_type": "code",
   "execution_count": 6,
   "metadata": {},
   "outputs": [
    {
     "data": {
      "text/html": [
       "<div>\n",
       "<style scoped>\n",
       "    .dataframe tbody tr th:only-of-type {\n",
       "        vertical-align: middle;\n",
       "    }\n",
       "\n",
       "    .dataframe tbody tr th {\n",
       "        vertical-align: top;\n",
       "    }\n",
       "\n",
       "    .dataframe thead th {\n",
       "        text-align: right;\n",
       "    }\n",
       "</style>\n",
       "<table border=\"1\" class=\"dataframe\">\n",
       "  <thead>\n",
       "    <tr style=\"text-align: right;\">\n",
       "      <th></th>\n",
       "      <th>Event</th>\n",
       "      <th>Site</th>\n",
       "      <th>Date</th>\n",
       "      <th>White</th>\n",
       "      <th>Black</th>\n",
       "      <th>Result</th>\n",
       "      <th>UTCTime</th>\n",
       "      <th>UTCDate</th>\n",
       "      <th>WhiteElo</th>\n",
       "      <th>BlackElo</th>\n",
       "      <th>Variant</th>\n",
       "      <th>TimeControl</th>\n",
       "      <th>ECO</th>\n",
       "      <th>Termination</th>\n",
       "      <th>Opening</th>\n",
       "      <th>Moves</th>\n",
       "    </tr>\n",
       "  </thead>\n",
       "  <tbody>\n",
       "    <tr>\n",
       "      <th>0</th>\n",
       "      <td>Rated Blitz game</td>\n",
       "      <td>https://lichess.org/qwx9tF5P</td>\n",
       "      <td>2023.05.04</td>\n",
       "      <td>PAASHUPATASTRA</td>\n",
       "      <td>sseth333</td>\n",
       "      <td>1-0</td>\n",
       "      <td>06:39:50</td>\n",
       "      <td>2023.05.04</td>\n",
       "      <td>2006</td>\n",
       "      <td>2018</td>\n",
       "      <td>Standard</td>\n",
       "      <td>180+0</td>\n",
       "      <td>A35</td>\n",
       "      <td>Normal</td>\n",
       "      <td>English Opening: Symmetrical Variation, Four K...</td>\n",
       "      <td>1. c4 { [%clk 0:03:00] } 1... c5 { [%clk 0:03:...</td>\n",
       "    </tr>\n",
       "  </tbody>\n",
       "</table>\n",
       "</div>"
      ],
      "text/plain": [
       "              Event                          Site        Date           White  \\\n",
       "0  Rated Blitz game  https://lichess.org/qwx9tF5P  2023.05.04  PAASHUPATASTRA   \n",
       "\n",
       "      Black Result   UTCTime     UTCDate WhiteElo BlackElo   Variant  \\\n",
       "0  sseth333    1-0  06:39:50  2023.05.04     2006     2018  Standard   \n",
       "\n",
       "  TimeControl  ECO Termination  \\\n",
       "0       180+0  A35      Normal   \n",
       "\n",
       "                                             Opening  \\\n",
       "0  English Opening: Symmetrical Variation, Four K...   \n",
       "\n",
       "                                               Moves  \n",
       "0  1. c4 { [%clk 0:03:00] } 1... c5 { [%clk 0:03:...  "
      ]
     },
     "execution_count": 6,
     "metadata": {},
     "output_type": "execute_result"
    }
   ],
   "source": [
    "# Load the PGN file containing the Lichess games\n",
    "pgn_file = open('lichess_sseth333_games.pgn')\n",
    "\n",
    "\n",
    "games = []\n",
    "\n",
    "# Loop through each game in the PGN file\n",
    "while True:\n",
    "    # Read in the next game from the PGN file\n",
    "    game = chess.pgn.read_game(pgn_file)\n",
    "    \n",
    "    if game is None:\n",
    "        break\n",
    "    \n",
    "    # Extract the game data and append it to the list\n",
    "    games.append({\n",
    "        'Event': game.headers['Event'],\n",
    "        'Site': game.headers['Site'],\n",
    "        'Date': game.headers['Date'],\n",
    "        'White': game.headers['White'],\n",
    "        'Black': game.headers['Black'],\n",
    "        'Result': game.headers['Result'],\n",
    "        'UTCTime': game.headers['UTCTime'],\n",
    "        'UTCDate': game.headers['UTCDate'],\n",
    "        'WhiteElo': game.headers['WhiteElo'],\n",
    "        'BlackElo': game.headers['BlackElo'],\n",
    "        'Variant': game.headers['Variant'],\n",
    "        'TimeControl': game.headers['TimeControl'],\n",
    "        'ECO': game.headers['ECO'],\n",
    "        'Termination': game.headers['Termination'],\n",
    "        'Opening': game.headers['Opening'],\n",
    "        'Moves': game.mainline_moves()\n",
    "    })\n",
    "    \n",
    "    break\n",
    "\n",
    "# Convert the list of games to a pandas DataFrame\n",
    "df = pd.DataFrame(games)\n",
    "df"
   ]
  },
  {
   "cell_type": "code",
   "execution_count": 9,
   "metadata": {},
   "outputs": [
    {
     "name": "stdout",
     "output_type": "stream",
     "text": [
      "(91, 768) (91, 4096)\n"
     ]
    }
   ],
   "source": [
    "import pandas as pd\n",
    "import numpy as np\n",
    "import chess\n",
    "import chess.pgn\n",
    "from tensorflow.keras.models import Sequential\n",
    "from tensorflow.keras.layers import Dense, Dropout, BatchNormalization\n",
    "from tensorflow.keras.regularizers import l2\n",
    "from tensorflow.keras.callbacks import ReduceLROnPlateau, EarlyStopping\n",
    "from tensorflow.keras.preprocessing.image import ImageDataGenerator\n",
    "from sklearn.model_selection import train_test_split\n",
    "from tensorflow.keras.utils import to_categorical\n",
    "\n",
    "def create_board_state(board):\n",
    "    \"\"\"Convert chess board to numerical representation.\"\"\"\n",
    "    state = np.zeros(64 * 12, dtype=np.int8)  # 12 piece types * 64 squares\n",
    "    for square in chess.SQUARES:\n",
    "        piece = board.piece_at(square)\n",
    "        if piece is not None:\n",
    "            piece_idx = piece.piece_type - 1\n",
    "            if piece.color == chess.BLACK:\n",
    "                piece_idx += 6\n",
    "            state[square + piece_idx * 64] = 1\n",
    "    return state\n",
    "\n",
    "def create_move_label(move):\n",
    "    \"\"\"Convert chess move to label.\"\"\"\n",
    "    return move.from_square * 64 + move.to_square\n",
    "\n",
    "def prepare_training_data(df):\n",
    "    \"\"\"Prepare training data from games DataFrame.\"\"\"\n",
    "    X = []\n",
    "    y = []\n",
    "    for _, game in df.iterrows():\n",
    "        board = chess.Board()\n",
    "        for move in game['Moves']:\n",
    "            X.append(create_board_state(board))\n",
    "            y.append(create_move_label(move))\n",
    "            board.push(move)\n",
    "    return np.array(X), np.array(y)\n",
    "\n",
    "\n",
    "# Prepare the training data\n",
    "X, y = prepare_training_data(df)\n",
    "y = to_categorical(y, num_classes=64 * 64)\n",
    "print(X.shape, y.shape)"
   ]
  },
  {
   "cell_type": "code",
   "execution_count": null,
   "metadata": {},
   "outputs": [],
   "source": []
  },
  {
   "cell_type": "code",
   "execution_count": 12,
   "metadata": {},
   "outputs": [
    {
     "data": {
      "image/png": "[encoded data removed]",
      "text/plain": [
       "<Figure size 864x648 with 12 Axes>"
      ]
     },
     "metadata": {
      "needs_background": "light"
     },
     "output_type": "display_data"
    }
   ],
   "source": [
    "import numpy as np\n",
    "import chess\n",
    "import matplotlib.pyplot as plt\n",
    "\n",
    "def create_board_state(board):\n",
    "    state = np.zeros((12, 8, 8), dtype=np.int8)  # 12 channels for piece types\n",
    "    piece_map = board.piece_map()\n",
    "    for square, piece in piece_map.items():\n",
    "        piece_idx = piece.piece_type - 1\n",
    "        if piece.color == chess.BLACK:\n",
    "            piece_idx += 6\n",
    "        row, col = divmod(square, 8)\n",
    "        state[piece_idx, row, col] = 1\n",
    "    return state\n",
    "\n",
    "def plot_board_state(state):\n",
    "    fig, axes = plt.subplots(3, 4, figsize=(12, 9))\n",
    "    piece_labels = ['P', 'N', 'B', 'R', 'Q', 'K', 'p', 'n', 'b', 'r', 'q', 'k']\n",
    "    for i, ax in enumerate(axes.flat):\n",
    "        ax.imshow(state[i], cmap='gray_r')\n",
    "        ax.set_title(piece_labels[i])\n",
    "        ax.axis('off')\n",
    "    plt.tight_layout()\n",
    "    plt.show()\n",
    "\n",
    "# Example usage\n",
    "board = chess.Board()\n",
    "state = create_board_state(board)\n",
    "plot_board_state(state)\n"
   ]
  },
  {
   "cell_type": "code",
   "execution_count": null,
   "metadata": {},
   "outputs": [],
   "source": []
  },
  {
   "cell_type": "code",
   "execution_count": null,
   "metadata": {},
   "outputs": [],
   "source": []
  },
  {
   "cell_type": "code",
   "execution_count": 14,
   "metadata": {},
   "outputs": [
    {
     "name": "stdout",
     "output_type": "stream",
     "text": [
      "Input shape: (91, 12, 8, 8)\n",
      "Output shape: (91,)\n"
     ]
    }
   ],
   "source": [
    "import pandas as pd\n",
    "import chess.pgn\n",
    "\n",
    "def create_move_label(move):\n",
    "    return move.from_square * 64 + move.to_square\n",
    "\n",
    "def prepare_training_data(df):\n",
    "    X = []\n",
    "    y = []\n",
    "    for _, game in df.iterrows():\n",
    "        board = chess.Board()\n",
    "        for move in game['Moves']:\n",
    "            X.append(create_board_state(board))\n",
    "            y.append(create_move_label(move))\n",
    "            board.push(move)\n",
    "    return np.array(X), np.array(y)\n",
    "\n",
    "X, y = prepare_training_data(df)\n",
    "\n",
    "print(f\"Input shape: {X.shape}\")\n",
    "print(f\"Output shape: {y.shape}\")"
   ]
  },
  {
   "cell_type": "code",
   "execution_count": null,
   "metadata": {},
   "outputs": [],
   "source": []
  },
  {
   "cell_type": "code",
   "execution_count": null,
   "metadata": {},
   "outputs": [],
   "source": []
  },
  {
   "cell_type": "code",
   "execution_count": 15,
   "metadata": {},
   "outputs": [
    {
     "name": "stdout",
     "output_type": "stream",
     "text": [
      "Move: c2c4\n"
     ]
    },
    {
     "data": {
      "image/png": "[encoded data removed]",
      "text/plain": [
       "<Figure size 864x648 with 12 Axes>"
      ]
     },
     "metadata": {
      "needs_background": "light"
     },
     "output_type": "display_data"
    }
   ],
   "source": [
    "def plot_sample(X, y, index):\n",
    "    state = X[index]\n",
    "    move_label = y[index]\n",
    "    move_from = move_label // 64\n",
    "    move_to = move_label % 64\n",
    "    move = chess.Move(move_from, move_to)\n",
    "\n",
    "    print(f\"Move: {move.uci()}\")\n",
    "    plot_board_state(state)\n",
    "\n",
    "# Example usage\n",
    "sample_index = 0\n",
    "plot_sample(X, y, sample_index)\n"
   ]
  }
 ],
 "metadata": {
  "kernelspec": {
   "display_name": "Python 3",
   "language": "python",
   "name": "python3"
  },
  "language_info": {
   "codemirror_mode": {
    "name": "ipython",
    "version": 3
   },
   "file_extension": ".py",
   "mimetype": "text/x-python",
   "name": "python",
   "nbconvert_exporter": "python",
   "pygments_lexer": "ipython3",
   "version": "3.7.3"
  }
 },
 "nbformat": 4,
 "nbformat_minor": 2
}
